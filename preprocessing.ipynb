{
  "nbformat": 4,
  "nbformat_minor": 0,
  "metadata": {
    "colab": {
      "name": "preprocessing.ipynb",
      "provenance": [],
      "collapsed_sections": []
    },
    "kernelspec": {
      "name": "python3",
      "display_name": "Python 3"
    },
    "language_info": {
      "name": "python"
    }
  },
  "cells": [
    {
      "cell_type": "code",
      "execution_count": null,
      "metadata": {
        "id": "SBzwSXCSE94C"
      },
      "outputs": [],
      "source": [
        "import numpy as np\n",
        "import matplotlib.pyplot as plt\n",
        "import pandas as pd"
      ]
    },
    {
      "cell_type": "markdown",
      "source": [
        "Numpy merupakan library  phyton digunakan untuk kompotasi matriks. Matplotlib merupakan library phyton untuk presentasi data berupa grafik atau plot . . . .. "
      ],
      "metadata": {
        "id": "pyBxEyn3GluK"
      }
    },
    {
      "cell_type": "code",
      "source": [
        "dataset = pd.read_csv('Dataset.csv')\n",
        "x = dataset.iloc[:, :-1].values\n",
        "y = dataset.iloc[:, -1].values"
      ],
      "metadata": {
        "id": "0oSXg9nxHAXe"
      },
      "execution_count": null,
      "outputs": []
    },
    {
      "cell_type": "code",
      "source": [
        "print (x)\n",
        "print (y)"
      ],
      "metadata": {
        "colab": {
          "base_uri": "https://localhost:8080/"
        },
        "id": "rhRhfEfnHiB0",
        "outputId": "34220862-26e1-42d5-ba20-e0678d6d1771"
      },
      "execution_count": 18,
      "outputs": [
        {
          "output_type": "stream",
          "name": "stdout",
          "text": [
            "[[1.0 0.0 1.0 0.0 49.0 86400.0]\n",
            " [0.0 1.0 0.0 0.0 32.0 57600.0]\n",
            " [1.0 0.0 0.0 1.0 35.0 64800.0]\n",
            " [0.0 1.0 0.0 0.0 43.0 73200.0]\n",
            " [1.0 0.0 0.0 1.0 45.0 76533.33333333333]\n",
            " [1.0 0.0 1.0 0.0 40.0 69600.0]\n",
            " [0.0 1.0 0.0 0.0 43.77777777777778 62400.0]\n",
            " [1.0 0.0 1.0 0.0 53.0 94800.0]\n",
            " [1.0 0.0 0.0 1.0 55.0 99600.0]\n",
            " [1.0 0.0 1.0 0.0 42.0 80400.0]]\n",
            "[1 1 0 0 1 0 0 1 0 1]\n"
          ]
        }
      ]
    },
    {
      "cell_type": "code",
      "source": [
        "from sklearn.impute import SimpleImputer\n",
        "imputer = SimpleImputer(missing_values=np.nan, strategy='mean')\n",
        "imputer.fit(x[:, 1:3])\n",
        "x[:, 1:3] = imputer.transform(x[:, 1:3])"
      ],
      "metadata": {
        "id": "y3QzREy9Jt6u"
      },
      "execution_count": null,
      "outputs": []
    },
    {
      "cell_type": "code",
      "source": [
        "print (x)"
      ],
      "metadata": {
        "colab": {
          "base_uri": "https://localhost:8080/"
        },
        "id": "wwwWCVHJKq64",
        "outputId": "467bffac-2afa-4164-d982-ed71aada06e1"
      },
      "execution_count": 19,
      "outputs": [
        {
          "output_type": "stream",
          "name": "stdout",
          "text": [
            "[[1.0 0.0 1.0 0.0 49.0 86400.0]\n",
            " [0.0 1.0 0.0 0.0 32.0 57600.0]\n",
            " [1.0 0.0 0.0 1.0 35.0 64800.0]\n",
            " [0.0 1.0 0.0 0.0 43.0 73200.0]\n",
            " [1.0 0.0 0.0 1.0 45.0 76533.33333333333]\n",
            " [1.0 0.0 1.0 0.0 40.0 69600.0]\n",
            " [0.0 1.0 0.0 0.0 43.77777777777778 62400.0]\n",
            " [1.0 0.0 1.0 0.0 53.0 94800.0]\n",
            " [1.0 0.0 0.0 1.0 55.0 99600.0]\n",
            " [1.0 0.0 1.0 0.0 42.0 80400.0]]\n"
          ]
        }
      ]
    },
    {
      "cell_type": "code",
      "source": [
        "from sklearn.compose import ColumnTransformer\n",
        "from sklearn.preprocessing import OneHotEncoder\n",
        "ct = ColumnTransformer(transformers=[('encoder',OneHotEncoder(), [0])], remainder='passthrough')\n",
        "x = np.array(ct.fit_transform(x))"
      ],
      "metadata": {
        "id": "1gzAUPqyKuIN"
      },
      "execution_count": null,
      "outputs": []
    },
    {
      "cell_type": "code",
      "source": [
        "print (x)"
      ],
      "metadata": {
        "id": "IEgVBnCILp3T",
        "outputId": "aaadf7eb-3d90-467c-828d-721dd9a481cb",
        "colab": {
          "base_uri": "https://localhost:8080/"
        }
      },
      "execution_count": 20,
      "outputs": [
        {
          "output_type": "stream",
          "name": "stdout",
          "text": [
            "[[1.0 0.0 1.0 0.0 49.0 86400.0]\n",
            " [0.0 1.0 0.0 0.0 32.0 57600.0]\n",
            " [1.0 0.0 0.0 1.0 35.0 64800.0]\n",
            " [0.0 1.0 0.0 0.0 43.0 73200.0]\n",
            " [1.0 0.0 0.0 1.0 45.0 76533.33333333333]\n",
            " [1.0 0.0 1.0 0.0 40.0 69600.0]\n",
            " [0.0 1.0 0.0 0.0 43.77777777777778 62400.0]\n",
            " [1.0 0.0 1.0 0.0 53.0 94800.0]\n",
            " [1.0 0.0 0.0 1.0 55.0 99600.0]\n",
            " [1.0 0.0 1.0 0.0 42.0 80400.0]]\n"
          ]
        }
      ]
    },
    {
      "cell_type": "code",
      "source": [
        "from sklearn.preprocessing import LabelEncoder\n",
        "le = LabelEncoder()\n",
        "y = le.fit_transform(y)"
      ],
      "metadata": {
        "id": "2t1BnKLhJkpJ"
      },
      "execution_count": 10,
      "outputs": []
    },
    {
      "cell_type": "code",
      "source": [
        "print (y)"
      ],
      "metadata": {
        "colab": {
          "base_uri": "https://localhost:8080/"
        },
        "id": "UOSEtoiyLH-F",
        "outputId": "0e7b7201-8217-41a6-bdbe-2da25c8900b9"
      },
      "execution_count": 21,
      "outputs": [
        {
          "output_type": "stream",
          "name": "stdout",
          "text": [
            "[1 1 0 0 1 0 0 1 0 1]\n"
          ]
        }
      ]
    },
    {
      "cell_type": "code",
      "source": [
        "from sklearn.model_selection import train_test_split\n",
        "x_train, x_test, y_train, y_test = train_test_split(x,y, test_size = 0.2, random_state = 1)"
      ],
      "metadata": {
        "id": "8eIJ6AovLRcS"
      },
      "execution_count": 11,
      "outputs": []
    },
    {
      "cell_type": "code",
      "source": [
        "print (x_train)"
      ],
      "metadata": {
        "colab": {
          "base_uri": "https://localhost:8080/"
        },
        "id": "ifkH94kjL-Dl",
        "outputId": "39411687-1310-4d45-c025-e0be508bc3ed"
      },
      "execution_count": 22,
      "outputs": [
        {
          "output_type": "stream",
          "name": "stdout",
          "text": [
            "[[0.0 1.0 0.0 -0.5773502691896258 -0.19159184384578545 -1.078125940841242]\n",
            " [1.0 0.0 0.0 1.7320508075688774 -0.014117293757057777\n",
            "  -0.07013167641635393]\n",
            " [1.0 0.0 1.0 -0.5773502691896258 0.566708506533324 0.6335624327104554]\n",
            " [0.0 1.0 0.0 -0.5773502691896258 -0.30453019390224867\n",
            "  -0.30786617274297823]\n",
            " [0.0 1.0 0.0 -0.5773502691896258 -1.9018011447007988 -1.4204636155515815]\n",
            " [1.0 0.0 1.0 -0.5773502691896258 1.1475343068237058 1.2326533634535495]\n",
            " [1.0 0.0 0.0 1.7320508075688774 1.4379472069688968 1.574991038163889]\n",
            " [1.0 0.0 1.0 -0.5773502691896258 -0.7401495441200351 -0.5646194287757329]]\n"
          ]
        }
      ]
    },
    {
      "cell_type": "code",
      "source": [
        "print (x_test)"
      ],
      "metadata": {
        "colab": {
          "base_uri": "https://localhost:8080/"
        },
        "id": "VXEmHJ83MCLx",
        "outputId": "216a663d-1797-44c0-99be-e92138f3e816"
      },
      "execution_count": 23,
      "outputs": [
        {
          "output_type": "stream",
          "name": "stdout",
          "text": [
            "[[1.0 0.0 0.0 1.7320508075688774 -1.4661817944830124 -0.9069571034860724]\n",
            " [1.0 0.0 1.0 -0.5773502691896258 -0.44973664397484414 0.205640339322531]]\n"
          ]
        }
      ]
    },
    {
      "cell_type": "code",
      "source": [
        "print (y_train)"
      ],
      "metadata": {
        "colab": {
          "base_uri": "https://localhost:8080/"
        },
        "id": "fHdijSJXME_l",
        "outputId": "c126c027-bf70-4884-eb4b-e2697929d84b"
      },
      "execution_count": 24,
      "outputs": [
        {
          "output_type": "stream",
          "name": "stdout",
          "text": [
            "[0 1 1 0 1 1 0 0]\n"
          ]
        }
      ]
    },
    {
      "cell_type": "code",
      "source": [
        "print (y_test)"
      ],
      "metadata": {
        "colab": {
          "base_uri": "https://localhost:8080/"
        },
        "id": "KkM1hJxzMHwj",
        "outputId": "f85a2756-8b94-4a14-eb24-6bd90d1e3af2"
      },
      "execution_count": 15,
      "outputs": [
        {
          "output_type": "stream",
          "name": "stdout",
          "text": [
            "[0 1]\n"
          ]
        }
      ]
    },
    {
      "cell_type": "code",
      "source": [
        "from sklearn.preprocessing import StandardScaler\n",
        "sc = StandardScaler()\n",
        "x_train[:, 3:] = sc.fit_transform(x_train [:, 3:])\n",
        "x_test[:, 3:] = sc.transform(x_test[:, 3:])"
      ],
      "metadata": {
        "id": "2bTJcFKcMLP5"
      },
      "execution_count": 25,
      "outputs": []
    },
    {
      "cell_type": "code",
      "source": [
        "print(x_train)"
      ],
      "metadata": {
        "colab": {
          "base_uri": "https://localhost:8080/"
        },
        "id": "O7lFOCfTOCnz",
        "outputId": "a1970f1a-e246-42d6-9922-31a834e80607"
      },
      "execution_count": 26,
      "outputs": [
        {
          "output_type": "stream",
          "name": "stdout",
          "text": [
            "[[0.0 1.0 0.0 -0.5773502691896258 -0.1915918438457856 -1.0781259408412427]\n",
            " [1.0 0.0 0.0 1.7320508075688774 -0.014117293757057902\n",
            "  -0.0701316764163546]\n",
            " [1.0 0.0 1.0 -0.5773502691896258 0.5667085065333239 0.6335624327104548]\n",
            " [0.0 1.0 0.0 -0.5773502691896258 -0.3045301939022488 -0.3078661727429789]\n",
            " [0.0 1.0 0.0 -0.5773502691896258 -1.901801144700799 -1.4204636155515822]\n",
            " [1.0 0.0 1.0 -0.5773502691896258 1.1475343068237056 1.2326533634535488]\n",
            " [1.0 0.0 0.0 1.7320508075688774 1.4379472069688966 1.5749910381638883]\n",
            " [1.0 0.0 1.0 -0.5773502691896258 -0.7401495441200352 -0.5646194287757336]]\n"
          ]
        }
      ]
    }
  ]
}